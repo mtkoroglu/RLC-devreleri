{
  "nbformat": 4,
  "nbformat_minor": 0,
  "metadata": {
    "colab": {
      "name": "R-L-C_devreleri.ipynb",
      "provenance": []
    },
    "kernelspec": {
      "name": "python3",
      "display_name": "Python 3"
    },
    "language_info": {
      "name": "python"
    }
  },
  "cells": [
    {
      "cell_type": "markdown",
      "metadata": {
        "id": "7wuaHAG9wO9R"
      },
      "source": [
        "Bu sayfada kapasitör ve endüktör devre elemanlarını anlamaya çalışıp RC, RL ve RLC devrelerinin basamak ve doğal cevaplarına bakacağız."
      ]
    },
    {
      "cell_type": "code",
      "metadata": {
        "id": "52Vm9NLiuF4S"
      },
      "source": [
        "import numpy as np\n",
        "import matplotlib.pyplot as plt"
      ],
      "execution_count": null,
      "outputs": []
    },
    {
      "cell_type": "markdown",
      "metadata": {
        "id": "bAAwy6zCyBoI"
      },
      "source": [
        "Kapasitörün matematiksel modeli\n",
        "\n",
        "$i_c = C\\frac{dV_c}{dt}$\n",
        "\n",
        "olarak verilmişti."
      ]
    }
  ]
}