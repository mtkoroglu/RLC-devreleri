{
  "nbformat": 4,
  "nbformat_minor": 0,
  "metadata": {
    "colab": {
      "name": "R-L-C_devreleri.ipynb",
      "provenance": [],
      "authorship_tag": "ABX9TyPE5AcNOWdqRyscJCZhlNS5",
      "include_colab_link": true
    },
    "kernelspec": {
      "name": "python3",
      "display_name": "Python 3"
    },
    "language_info": {
      "name": "python"
    }
  },
  "cells": [
    {
      "cell_type": "markdown",
      "metadata": {
        "id": "view-in-github",
        "colab_type": "text"
      },
      "source": [
        "<a href=\"https://colab.research.google.com/github/taha-koroglu/RLC_devreleri/blob/main/R_L_C_devreleri.ipynb\" target=\"_parent\"><img src=\"https://colab.research.google.com/assets/colab-badge.svg\" alt=\"Open In Colab\"/></a>"
      ]
    },
    {
      "cell_type": "markdown",
      "metadata": {
        "id": "7wuaHAG9wO9R"
      },
      "source": [
        "Bu sayfada kapasitör ve endüktör devre elemanlarını anlamaya çalışıp RC, RL ve RLC devrelerinin basamak ve doğal cevaplarına bakacağız. Bu işlemler için gerekli olan kütüphaneleri dahil edelim."
      ]
    },
    {
      "cell_type": "code",
      "metadata": {
        "id": "52Vm9NLiuF4S"
      },
      "source": [
        "import numpy as np\n",
        "import matplotlib.pyplot as plt"
      ],
      "execution_count": null,
      "outputs": []
    },
    {
      "cell_type": "markdown",
      "metadata": {
        "id": "bAAwy6zCyBoI"
      },
      "source": [
        "Kapasitörün matematiksel modeli\n",
        "\n",
        "$i_C(t) = C\\frac{dV_C(t)}{dt}$\n",
        "\n",
        "olarak verilmişti. Bu birinci dereceden adi diferansiyel denklemde eşitliğin her iki tarafının $k=t_0$ anından $k=t$ anına kadar integralini alırsak aşağıdaki çözümü elde ederiz.\n",
        "\n",
        "$V_C(t) = V_C(t_0) + \\frac{1}{C} \\int_{t_0}^{t} i_C(k)dk$\n",
        "\n",
        "Buradaki $k$ isimli sahte değişkene (**dummy variable**) derslerimizde $\\tau$ demiştik. Aşağıda zaman sabiti (**time constant**) kavramı karşımıza çıktığında zaman sabitine $\\tau$ diyeceğimizden, karışıklık olmasın diye integral alırken $t$ (**time** yani zaman) notasyonunu ile gösterilen yatay ekseni $k$ notasyonu ile göstereceğiz.\n",
        "\n",
        "Şimdi bir güç kaynağı, rezistör ve kapasitörden oluşan RC devremizin basamak cevabını analiz edelim."
      ]
    }
  ]
}