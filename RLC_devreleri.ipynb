{
  "nbformat": 4,
  "nbformat_minor": 0,
  "metadata": {
    "colab": {
      "name": "RLC_devreleri.ipynb",
      "provenance": [],
      "authorship_tag": "ABX9TyM36WMh04DSKC94ZRqtgCZX",
      "include_colab_link": true
    },
    "kernelspec": {
      "name": "python3",
      "display_name": "Python 3"
    },
    "language_info": {
      "name": "python"
    }
  },
  "cells": [
    {
      "cell_type": "markdown",
      "metadata": {
        "id": "view-in-github",
        "colab_type": "text"
      },
      "source": [
        "<a href=\"https://colab.research.google.com/github/taha-koroglu/RLC_devreleri/blob/main/RLC_devreleri.ipynb\" target=\"_parent\"><img src=\"https://colab.research.google.com/assets/colab-badge.svg\" alt=\"Open In Colab\"/></a>"
      ]
    },
    {
      "cell_type": "markdown",
      "metadata": {
        "id": "7wuaHAG9wO9R"
      },
      "source": [
        "Bu sayfada kapasitör ve endüktör devre elemanlarını anlamaya çalışıp RC, RL ve RLC devrelerinin basamak ve doğal cevaplarına bakacağız. Bu işlemler için gerekli olan kütüphaneleri dahil edelim."
      ]
    },
    {
      "cell_type": "code",
      "metadata": {
        "id": "52Vm9NLiuF4S"
      },
      "source": [
        "import numpy as np\n",
        "import matplotlib.pyplot as plt"
      ],
      "execution_count": null,
      "outputs": []
    },
    {
      "cell_type": "markdown",
      "metadata": {
        "id": "bAAwy6zCyBoI"
      },
      "source": [
        "Kapasitörün matematiksel modeli\n",
        "\n",
        "\\begin{equation}\n",
        "i_C(t) = C\\frac{dV_C(t)}{dt}\n",
        "\\end{equation}\n",
        "\n",
        "olarak verilmişti. Bu birinci dereceden adi diferansiyel denklemde eşitliğin her iki tarafının $k=t_0$ anından $k=t$ anına kadar integralini alırsak aşağıdaki çözümü elde ederiz.\n",
        "\n",
        "\\begin{equation}\n",
        "V_C(t) = V_C(t_0) + \\frac{1}{C} \\int_{t_0}^{t} i_C(k)dk$\n",
        "\\end{equation}\n",
        "\n",
        "Buradaki $k$ isimli sahte değişkene (**dummy variable**) derslerimizde $\\tau$ demiştik. Aşağıda zaman sabiti (**time constant**) kavramı karşımıza çıktığında zaman sabitine $\\tau$ diyeceğimizden, bundan sonra karışıklık olmasın diye integral alırken zamanı temsil eden yatay ekseni $k$ notasyonu ile göstereceğiz.\n",
        "\n",
        "Şimdi, *Şekil 3*'de gördüğümüz üzere bir güç kaynağı, bir rezistör ve bir kapasitörden oluşan RC devresinin basamak cevabını$^{1}$ analiz edelim.\n",
        "\n",
        "<img src=\"https://drive.google.com/uc?export=view&id=1Tfbp2MS9zXmIg9ND0nssQwn7w5kWTo3E\" alt=\"RC devresi.\" height=\"400\"/>\n",
        "\n",
        "*Şekil 1:* RC devresi.\n",
        "\n",
        "Devrede ok yönünde dolaşıp Kirchoff'un Gerilimler Yasasını (KGY) uygularsak elde edeceğimiz denklem aşağıdaki gibi olur.\n",
        "\n",
        "\\begin{equation}\n",
        "-V_{cc} + Ri(t) + V_C(t) = 0\n",
        "\\end{equation}\n",
        "\n",
        "Devremizde kapasitörün üzerinden geçen akım $i_C(t)$ devrede dolaşan akım $i(t)$'ye eşit (i.e., $i_C(t) = i(t)$). Bunu göz önünde bulundurarak yukarıda elde ettiğimiz ilk denklem olan kapasitörün matematiksel modelini KGY ile elde ettiğimiz denklemde yerine koyacak olursak\n",
        "\n",
        "\\begin{equation}\n",
        "-V_{cc} + RC\\frac{dV_C(t)}{dt} + V_C(t) = 0\n",
        "\\end{equation}\n",
        "\n",
        "birinci dereceden adi diferansiyel denklemini elde ederiz. Bu denklemi düzenlersek\n",
        "\n",
        "\\begin{equation}\n",
        "\\frac{dV_C(t)}{dt} = -\\frac{1}{RC}(V_C(t)- V_{cc})\n",
        "\\end{equation}\n",
        "\n",
        "haline gelir. Biraz daha manipüle edersek\n",
        "\n",
        "\\begin{equation}\n",
        "\\frac{dV_C(t)}{V_C(t)- V_{cc}} = -\\frac{1}{RC}dt\n",
        "\\end{equation}\n",
        "\n",
        "denklemini elde ederiz. Eşitliğin her iki tarafının integralini $k=0$'dan $k=t$ anına kadar alalım.\n",
        "\n",
        "\\begin{equation}\n",
        "\\int_{k=0}^{k=t}\\frac{dV_C(k)}{V_C(k)- V_{cc}}dk = -\\frac{1}{RC}\\int_{k=0}^{k=t}dk\n",
        "\\end{equation}\n",
        "\n",
        "Dikkat edilirse soldaki ifade doğal logaritma ile alakalı bir integral. İntegralleri alacak olursak\n",
        "\n",
        "\\begin{equation}\n",
        "\\ln(V_C(k)- V_{cc})|_{k=0}^{k=t} = -\\frac{1}{RC}|_{k=0}^{k=t}\n",
        "\\end{equation}\n",
        "\n",
        "\\begin{equation}\n",
        "\\ln(\\frac{V_C(t)- V_{cc}}{V_C(0)- V_{cc}}) = -\\frac{t}{RC}\n",
        "\\end{equation}\n",
        "\n",
        "her iki tarafı da $e \\approx 2.71$'in üssü olarak yazalım (birşey değişmeyeği gibi sol taraftaki doğal logaritma $\\ln$ ifadesinden kurtulacağız).\n",
        "\n",
        "\\begin{equation}\n",
        "\\frac{V_C(t)- V_{cc}}{V_C(0)- V_{cc}} = e^{-\\frac{t}{RC}}\n",
        "\\end{equation}\n",
        "\n",
        "en sonunda aşağıdaki çözümü elde ediyoruz.\n",
        "\n",
        "\\begin{equation}\n",
        "V_C(t) = V_{cc} + V_C(0)e^{-\\frac{t}{RC}} - V_{cc}e^{-\\frac{t}{RC}}\n",
        "\\end{equation}"
      ]
    },
    {
      "cell_type": "markdown",
      "metadata": {
        "id": "BJvh8CDxP5YY"
      },
      "source": [
        "# Dipnotlar\n",
        "$^1$ İng. Step response. Basamak cevabı [1]'de geçen bir kavramdır. Aynı kaynağı referans kullanan [2], bu cevabı zorlanmış cevap diye isimlendirerek yaklaşımı daha genelleştirmiştir (i.e., güç kaynağından devreye etki eden sinyalin sadece sabit bir DC gerilim olma şartı yok). Biz burada [1]'de geçen haliyle kullanmayı uygun gördük. "
      ]
    },
    {
      "cell_type": "markdown",
      "metadata": {
        "id": "_-8z7OqfREqx"
      },
      "source": [
        "# Referanslar\n",
        "[1] J. W. Nilsson, S. A. Riedel, *Electric Circuits*, 10. Baskı, Prentice Hall, Upper Saddle River, New Jersey, 2014.\n",
        "\n",
        "[2] M. Ö. Efe, *Devre Analizi-I*, 3. Baskı, Seçkin Yayıncılık, Ankara, 2016."
      ]
    }
  ]
}